{
  "nbformat": 4,
  "nbformat_minor": 0,
  "metadata": {
    "colab": {
      "name": "Camelot",
      "provenance": []
    },
    "kernelspec": {
      "name": "python3",
      "display_name": "Python 3"
    },
    "language_info": {
      "name": "python"
    }
  },
  "cells": [
    {
      "cell_type": "code",
      "metadata": {
        "id": "c4FF2mIvarG2"
      },
      "source": [
        "!apt install python3-tk ghostscript\n",
        "!pip install \"camelot-py[cv]\"\n",
        "import camelot"
      ],
      "execution_count": null,
      "outputs": []
    },
    {
      "cell_type": "code",
      "metadata": {
        "colab": {
          "base_uri": "https://localhost:8080/"
        },
        "id": "3H7oZXSN2MAh",
        "outputId": "327ba1fb-1027-4037-9571-752edfdfc1ac"
      },
      "source": [
        "tables = camelot.read_pdf('table.pdf')\n",
        "tables"
      ],
      "execution_count": 5,
      "outputs": [
        {
          "output_type": "execute_result",
          "data": {
            "text/plain": [
              "<TableList n=1>"
            ]
          },
          "metadata": {
            "tags": []
          },
          "execution_count": 5
        }
      ]
    },
    {
      "cell_type": "code",
      "metadata": {
        "colab": {
          "base_uri": "https://localhost:8080/"
        },
        "id": "gBgP_yMC8RFK",
        "outputId": "a113ee8d-713f-4200-fc9c-061ef0ff4766"
      },
      "source": [
        "tables[0].parsing_report"
      ],
      "execution_count": 12,
      "outputs": [
        {
          "output_type": "execute_result",
          "data": {
            "text/plain": [
              "{'accuracy': 99.27, 'order': 1, 'page': 1, 'whitespace': 13.89}"
            ]
          },
          "metadata": {
            "tags": []
          },
          "execution_count": 12
        }
      ]
    },
    {
      "cell_type": "code",
      "metadata": {
        "id": "AX-TnOi62Z_X",
        "colab": {
          "base_uri": "https://localhost:8080/",
          "height": 235
        },
        "outputId": "efa995d4-9d31-4248-d1ae-6ee81130dbdb"
      },
      "source": [
        "tables[0].df"
      ],
      "execution_count": 7,
      "outputs": [
        {
          "output_type": "execute_result",
          "data": {
            "text/html": [
              "<div>\n",
              "<style scoped>\n",
              "    .dataframe tbody tr th:only-of-type {\n",
              "        vertical-align: middle;\n",
              "    }\n",
              "\n",
              "    .dataframe tbody tr th {\n",
              "        vertical-align: top;\n",
              "    }\n",
              "\n",
              "    .dataframe thead th {\n",
              "        text-align: right;\n",
              "    }\n",
              "</style>\n",
              "<table border=\"1\" class=\"dataframe\">\n",
              "  <thead>\n",
              "    <tr style=\"text-align: right;\">\n",
              "      <th></th>\n",
              "      <th>0</th>\n",
              "      <th>1</th>\n",
              "      <th>2</th>\n",
              "      <th>3</th>\n",
              "      <th>4</th>\n",
              "      <th>5</th>\n",
              "    </tr>\n",
              "  </thead>\n",
              "  <tbody>\n",
              "    <tr>\n",
              "      <th>0</th>\n",
              "      <td>Disability \\nCategory</td>\n",
              "      <td>Participants</td>\n",
              "      <td>Ballots \\nCompleted</td>\n",
              "      <td>Ballots \\nIncomplete/ \\nTerminated</td>\n",
              "      <td>Results</td>\n",
              "      <td></td>\n",
              "    </tr>\n",
              "    <tr>\n",
              "      <th>1</th>\n",
              "      <td></td>\n",
              "      <td></td>\n",
              "      <td></td>\n",
              "      <td></td>\n",
              "      <td>Accuracy</td>\n",
              "      <td>Time to \\ncomplete</td>\n",
              "    </tr>\n",
              "    <tr>\n",
              "      <th>2</th>\n",
              "      <td>Blind</td>\n",
              "      <td>5</td>\n",
              "      <td>1</td>\n",
              "      <td>4</td>\n",
              "      <td>34.5%, n=1</td>\n",
              "      <td>1199 sec, n=1</td>\n",
              "    </tr>\n",
              "    <tr>\n",
              "      <th>3</th>\n",
              "      <td>Low Vision</td>\n",
              "      <td>5</td>\n",
              "      <td>2</td>\n",
              "      <td>3</td>\n",
              "      <td>98.3% n=2 \\n(97.7%, n=3)</td>\n",
              "      <td>1716 sec, n=3 \\n(1934 sec, n=2)</td>\n",
              "    </tr>\n",
              "    <tr>\n",
              "      <th>4</th>\n",
              "      <td>Dexterity</td>\n",
              "      <td>5</td>\n",
              "      <td>4</td>\n",
              "      <td>1</td>\n",
              "      <td>98.3%, n=4</td>\n",
              "      <td>1672.1 sec, n=4</td>\n",
              "    </tr>\n",
              "    <tr>\n",
              "      <th>5</th>\n",
              "      <td>Mobility</td>\n",
              "      <td>3</td>\n",
              "      <td>3</td>\n",
              "      <td>0</td>\n",
              "      <td>95.4%, n=3</td>\n",
              "      <td>1416 sec, n=3</td>\n",
              "    </tr>\n",
              "  </tbody>\n",
              "</table>\n",
              "</div>"
            ],
            "text/plain": [
              "                       0  ...                                5\n",
              "0  Disability \\nCategory  ...                                 \n",
              "1                         ...               Time to \\ncomplete\n",
              "2                  Blind  ...                    1199 sec, n=1\n",
              "3             Low Vision  ...  1716 sec, n=3 \\n(1934 sec, n=2)\n",
              "4              Dexterity  ...                  1672.1 sec, n=4\n",
              "5               Mobility  ...                    1416 sec, n=3\n",
              "\n",
              "[6 rows x 6 columns]"
            ]
          },
          "metadata": {
            "tags": []
          },
          "execution_count": 7
        }
      ]
    },
    {
      "cell_type": "code",
      "metadata": {
        "colab": {
          "base_uri": "https://localhost:8080/"
        },
        "id": "sD-1UGOA7ewn",
        "outputId": "f35dcab4-d984-460a-93ad-aecd263a28fa"
      },
      "source": [
        "tables1 = camelot.read_pdf('table1.pdf')\n",
        "tables1"
      ],
      "execution_count": 8,
      "outputs": [
        {
          "output_type": "execute_result",
          "data": {
            "text/plain": [
              "<TableList n=2>"
            ]
          },
          "metadata": {
            "tags": []
          },
          "execution_count": 8
        }
      ]
    },
    {
      "cell_type": "code",
      "metadata": {
        "colab": {
          "base_uri": "https://localhost:8080/"
        },
        "id": "ueG7COdz8OBt",
        "outputId": "ceb40fc3-bdbb-49c5-9697-1d0e6392b822"
      },
      "source": [
        "tables1[0].parsing_report"
      ],
      "execution_count": 11,
      "outputs": [
        {
          "output_type": "execute_result",
          "data": {
            "text/plain": [
              "{'accuracy': 100.0, 'order': 1, 'page': 1, 'whitespace': 0.0}"
            ]
          },
          "metadata": {
            "tags": []
          },
          "execution_count": 11
        }
      ]
    },
    {
      "cell_type": "code",
      "metadata": {
        "colab": {
          "base_uri": "https://localhost:8080/",
          "height": 452
        },
        "id": "oO-3uU3974IJ",
        "outputId": "32c98f14-dd5a-4fcc-d3a6-c869dfa62dcd"
      },
      "source": [
        "tables1[0].df"
      ],
      "execution_count": 9,
      "outputs": [
        {
          "output_type": "execute_result",
          "data": {
            "text/html": [
              "<div>\n",
              "<style scoped>\n",
              "    .dataframe tbody tr th:only-of-type {\n",
              "        vertical-align: middle;\n",
              "    }\n",
              "\n",
              "    .dataframe tbody tr th {\n",
              "        vertical-align: top;\n",
              "    }\n",
              "\n",
              "    .dataframe thead th {\n",
              "        text-align: right;\n",
              "    }\n",
              "</style>\n",
              "<table border=\"1\" class=\"dataframe\">\n",
              "  <thead>\n",
              "    <tr style=\"text-align: right;\">\n",
              "      <th></th>\n",
              "      <th>0</th>\n",
              "      <th>1</th>\n",
              "      <th>2</th>\n",
              "      <th>3</th>\n",
              "      <th>4</th>\n",
              "      <th>5</th>\n",
              "    </tr>\n",
              "  </thead>\n",
              "  <tbody>\n",
              "    <tr>\n",
              "      <th>0</th>\n",
              "      <td>Date</td>\n",
              "      <td>Open</td>\n",
              "      <td>High</td>\n",
              "      <td>Low</td>\n",
              "      <td>Close / Last</td>\n",
              "      <td>Volume</td>\n",
              "    </tr>\n",
              "    <tr>\n",
              "      <th>1</th>\n",
              "      <td>01/04/2017</td>\n",
              "      <td>62.48</td>\n",
              "      <td>62.75</td>\n",
              "      <td>62.12</td>\n",
              "      <td>62.3</td>\n",
              "      <td>21,325,140</td>\n",
              "    </tr>\n",
              "    <tr>\n",
              "      <th>2</th>\n",
              "      <td>01/03/2017</td>\n",
              "      <td>62.79</td>\n",
              "      <td>62.84</td>\n",
              "      <td>62.125</td>\n",
              "      <td>62.58</td>\n",
              "      <td>20,655,190</td>\n",
              "    </tr>\n",
              "    <tr>\n",
              "      <th>3</th>\n",
              "      <td>12/30/2016</td>\n",
              "      <td>62.96</td>\n",
              "      <td>62.99</td>\n",
              "      <td>62.03</td>\n",
              "      <td>62.14</td>\n",
              "      <td>25,575,720</td>\n",
              "    </tr>\n",
              "    <tr>\n",
              "      <th>4</th>\n",
              "      <td>12/29/2016</td>\n",
              "      <td>62.86</td>\n",
              "      <td>63.2</td>\n",
              "      <td>62.73</td>\n",
              "      <td>62.9</td>\n",
              "      <td>10,248,460</td>\n",
              "    </tr>\n",
              "    <tr>\n",
              "      <th>5</th>\n",
              "      <td>12/28/2016</td>\n",
              "      <td>63.4</td>\n",
              "      <td>63.4</td>\n",
              "      <td>62.83</td>\n",
              "      <td>62.99</td>\n",
              "      <td>14,348,340</td>\n",
              "    </tr>\n",
              "    <tr>\n",
              "      <th>6</th>\n",
              "      <td>12/27/2016</td>\n",
              "      <td>63.21</td>\n",
              "      <td>64.07</td>\n",
              "      <td>63.21</td>\n",
              "      <td>63.28</td>\n",
              "      <td>11,743,650</td>\n",
              "    </tr>\n",
              "    <tr>\n",
              "      <th>7</th>\n",
              "      <td>12/23/2016</td>\n",
              "      <td>63.45</td>\n",
              "      <td>63.54</td>\n",
              "      <td>62.8</td>\n",
              "      <td>63.24</td>\n",
              "      <td>12,399,540</td>\n",
              "    </tr>\n",
              "    <tr>\n",
              "      <th>8</th>\n",
              "      <td>12/22/2016</td>\n",
              "      <td>63.84</td>\n",
              "      <td>64.1</td>\n",
              "      <td>63.405</td>\n",
              "      <td>63.55</td>\n",
              "      <td>22,175,270</td>\n",
              "    </tr>\n",
              "    <tr>\n",
              "      <th>9</th>\n",
              "      <td>12/21/2016</td>\n",
              "      <td>63.43</td>\n",
              "      <td>63.7</td>\n",
              "      <td>63.12</td>\n",
              "      <td>63.54</td>\n",
              "      <td>17,084,370</td>\n",
              "    </tr>\n",
              "    <tr>\n",
              "      <th>10</th>\n",
              "      <td>12/20/2016</td>\n",
              "      <td>63.69</td>\n",
              "      <td>63.8</td>\n",
              "      <td>63.025</td>\n",
              "      <td>63.54</td>\n",
              "      <td>26,017,470</td>\n",
              "    </tr>\n",
              "    <tr>\n",
              "      <th>11</th>\n",
              "      <td>12/19/2016</td>\n",
              "      <td>62.56</td>\n",
              "      <td>63.77</td>\n",
              "      <td>62.42</td>\n",
              "      <td>63.62</td>\n",
              "      <td>34,318,500</td>\n",
              "    </tr>\n",
              "    <tr>\n",
              "      <th>12</th>\n",
              "      <td>12/16/2016</td>\n",
              "      <td>62.95</td>\n",
              "      <td>62.95</td>\n",
              "      <td>62.115</td>\n",
              "      <td>62.3</td>\n",
              "      <td>42,452,660</td>\n",
              "    </tr>\n",
              "  </tbody>\n",
              "</table>\n",
              "</div>"
            ],
            "text/plain": [
              "             0      1      2       3             4           5\n",
              "0         Date   Open   High     Low  Close / Last      Volume\n",
              "1   01/04/2017  62.48  62.75   62.12          62.3  21,325,140\n",
              "2   01/03/2017  62.79  62.84  62.125         62.58  20,655,190\n",
              "3   12/30/2016  62.96  62.99   62.03         62.14  25,575,720\n",
              "4   12/29/2016  62.86   63.2   62.73          62.9  10,248,460\n",
              "5   12/28/2016   63.4   63.4   62.83         62.99  14,348,340\n",
              "6   12/27/2016  63.21  64.07   63.21         63.28  11,743,650\n",
              "7   12/23/2016  63.45  63.54    62.8         63.24  12,399,540\n",
              "8   12/22/2016  63.84   64.1  63.405         63.55  22,175,270\n",
              "9   12/21/2016  63.43   63.7   63.12         63.54  17,084,370\n",
              "10  12/20/2016  63.69   63.8  63.025         63.54  26,017,470\n",
              "11  12/19/2016  62.56  63.77   62.42         63.62  34,318,500\n",
              "12  12/16/2016  62.95  62.95  62.115          62.3  42,452,660"
            ]
          },
          "metadata": {
            "tags": []
          },
          "execution_count": 9
        }
      ]
    },
    {
      "cell_type": "code",
      "metadata": {
        "colab": {
          "base_uri": "https://localhost:8080/",
          "height": 452
        },
        "id": "yfuLmlke77jV",
        "outputId": "5ab9020b-3814-4051-a16f-aab1d3cebcf4"
      },
      "source": [
        "tables1[1].df"
      ],
      "execution_count": 10,
      "outputs": [
        {
          "output_type": "execute_result",
          "data": {
            "text/html": [
              "<div>\n",
              "<style scoped>\n",
              "    .dataframe tbody tr th:only-of-type {\n",
              "        vertical-align: middle;\n",
              "    }\n",
              "\n",
              "    .dataframe tbody tr th {\n",
              "        vertical-align: top;\n",
              "    }\n",
              "\n",
              "    .dataframe thead th {\n",
              "        text-align: right;\n",
              "    }\n",
              "</style>\n",
              "<table border=\"1\" class=\"dataframe\">\n",
              "  <thead>\n",
              "    <tr style=\"text-align: right;\">\n",
              "      <th></th>\n",
              "      <th>0</th>\n",
              "      <th>1</th>\n",
              "      <th>2</th>\n",
              "      <th>3</th>\n",
              "      <th>4</th>\n",
              "      <th>5</th>\n",
              "    </tr>\n",
              "  </thead>\n",
              "  <tbody>\n",
              "    <tr>\n",
              "      <th>0</th>\n",
              "      <td>Date</td>\n",
              "      <td>Open</td>\n",
              "      <td>High</td>\n",
              "      <td>Low</td>\n",
              "      <td>Close / Last</td>\n",
              "      <td>Volume</td>\n",
              "    </tr>\n",
              "    <tr>\n",
              "      <th>1</th>\n",
              "      <td>01/04/2017</td>\n",
              "      <td>117.55</td>\n",
              "      <td>119.66</td>\n",
              "      <td>117.29</td>\n",
              "      <td>118.69</td>\n",
              "      <td>19,594,560</td>\n",
              "    </tr>\n",
              "    <tr>\n",
              "      <th>2</th>\n",
              "      <td>01/03/2017</td>\n",
              "      <td>116.03</td>\n",
              "      <td>117.84</td>\n",
              "      <td>115.51</td>\n",
              "      <td>116.86</td>\n",
              "      <td>20,635,600</td>\n",
              "    </tr>\n",
              "    <tr>\n",
              "      <th>3</th>\n",
              "      <td>12/30/2016</td>\n",
              "      <td>116.595</td>\n",
              "      <td>116.83</td>\n",
              "      <td>114.7739</td>\n",
              "      <td>115.05</td>\n",
              "      <td>18,668,290</td>\n",
              "    </tr>\n",
              "    <tr>\n",
              "      <th>4</th>\n",
              "      <td>12/29/2016</td>\n",
              "      <td>117</td>\n",
              "      <td>117.531</td>\n",
              "      <td>116.06</td>\n",
              "      <td>116.35</td>\n",
              "      <td>9,925,082</td>\n",
              "    </tr>\n",
              "    <tr>\n",
              "      <th>5</th>\n",
              "      <td>12/28/2016</td>\n",
              "      <td>118.19</td>\n",
              "      <td>118.25</td>\n",
              "      <td>116.65</td>\n",
              "      <td>116.92</td>\n",
              "      <td>11,985,740</td>\n",
              "    </tr>\n",
              "    <tr>\n",
              "      <th>6</th>\n",
              "      <td>12/27/2016</td>\n",
              "      <td>116.96</td>\n",
              "      <td>118.68</td>\n",
              "      <td>116.864</td>\n",
              "      <td>118.01</td>\n",
              "      <td>12,034,590</td>\n",
              "    </tr>\n",
              "    <tr>\n",
              "      <th>7</th>\n",
              "      <td>12/23/2016</td>\n",
              "      <td>117</td>\n",
              "      <td>117.56</td>\n",
              "      <td>116.3</td>\n",
              "      <td>117.27</td>\n",
              "      <td>10,885,030</td>\n",
              "    </tr>\n",
              "    <tr>\n",
              "      <th>8</th>\n",
              "      <td>12/22/2016</td>\n",
              "      <td>118.86</td>\n",
              "      <td>118.99</td>\n",
              "      <td>116.93</td>\n",
              "      <td>117.4</td>\n",
              "      <td>16,226,770</td>\n",
              "    </tr>\n",
              "    <tr>\n",
              "      <th>9</th>\n",
              "      <td>12/21/2016</td>\n",
              "      <td>118.92</td>\n",
              "      <td>119.2</td>\n",
              "      <td>118.48</td>\n",
              "      <td>119.04</td>\n",
              "      <td>10,747,610</td>\n",
              "    </tr>\n",
              "    <tr>\n",
              "      <th>10</th>\n",
              "      <td>12/20/2016</td>\n",
              "      <td>119.5</td>\n",
              "      <td>119.77</td>\n",
              "      <td>118.8</td>\n",
              "      <td>119.09</td>\n",
              "      <td>13,673,570</td>\n",
              "    </tr>\n",
              "    <tr>\n",
              "      <th>11</th>\n",
              "      <td>12/19/2016</td>\n",
              "      <td>119.85</td>\n",
              "      <td>120.36</td>\n",
              "      <td>118.51</td>\n",
              "      <td>119.24</td>\n",
              "      <td>15,871,360</td>\n",
              "    </tr>\n",
              "    <tr>\n",
              "      <th>12</th>\n",
              "      <td>12/16/2016</td>\n",
              "      <td>120.9</td>\n",
              "      <td>121.5</td>\n",
              "      <td>119.27</td>\n",
              "      <td>119.87</td>\n",
              "      <td>25,316,220</td>\n",
              "    </tr>\n",
              "  </tbody>\n",
              "</table>\n",
              "</div>"
            ],
            "text/plain": [
              "             0        1        2         3             4           5\n",
              "0         Date     Open     High       Low  Close / Last      Volume\n",
              "1   01/04/2017   117.55   119.66    117.29        118.69  19,594,560\n",
              "2   01/03/2017   116.03   117.84    115.51        116.86  20,635,600\n",
              "3   12/30/2016  116.595   116.83  114.7739        115.05  18,668,290\n",
              "4   12/29/2016      117  117.531    116.06        116.35   9,925,082\n",
              "5   12/28/2016   118.19   118.25    116.65        116.92  11,985,740\n",
              "6   12/27/2016   116.96   118.68   116.864        118.01  12,034,590\n",
              "7   12/23/2016      117   117.56     116.3        117.27  10,885,030\n",
              "8   12/22/2016   118.86   118.99    116.93         117.4  16,226,770\n",
              "9   12/21/2016   118.92    119.2    118.48        119.04  10,747,610\n",
              "10  12/20/2016    119.5   119.77     118.8        119.09  13,673,570\n",
              "11  12/19/2016   119.85   120.36    118.51        119.24  15,871,360\n",
              "12  12/16/2016    120.9    121.5    119.27        119.87  25,316,220"
            ]
          },
          "metadata": {
            "tags": []
          },
          "execution_count": 10
        }
      ]
    },
    {
      "cell_type": "code",
      "metadata": {
        "id": "nsVhrLty79HV"
      },
      "source": [
        ""
      ],
      "execution_count": null,
      "outputs": []
    }
  ]
}